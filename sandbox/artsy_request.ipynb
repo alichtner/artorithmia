{
 "cells": [
  {
   "cell_type": "code",
   "execution_count": 4,
   "metadata": {
    "collapsed": false
   },
   "outputs": [],
   "source": [
    "import requests\n",
    "import os"
   ]
  },
  {
   "cell_type": "code",
   "execution_count": 5,
   "metadata": {
    "collapsed": true
   },
   "outputs": [],
   "source": [
    "client_id = os.environ['ARTSY_ID']\n",
    "client_secret = os.environ['ARTSY_SECRET']"
   ]
  },
  {
   "cell_type": "code",
   "execution_count": null,
   "metadata": {
    "collapsed": true
   },
   "outputs": [],
   "source": [
    "curl -v -L https://api.artsy.net/api/artists/andy-warhol -H 'X-Xapp-Token:JvTPWe4WsQO-xqX6Bts49l15KAJDex08cmwhWIVuKKgXCnf654RUmvmCBtJJxlcNBok25limaM0n1YoLJ1Fl0m5_zrKeofGoLNd7wfOCLR-vNoqzQVFB55jiw0kvAGRJqvAsJuz4kSvwlLdQKY4cQ4ocHo0DGlPP47MZWLASGIwC0lGusTlu7enrf6-l9e53loV3mwLswtCr7M3GlUXJOLBI9tsw4hj6wFefsez29MA='"
   ]
  },
  {
   "cell_type": "code",
   "execution_count": null,
   "metadata": {
    "collapsed": true
   },
   "outputs": [],
   "source": [
    "curl -v -X POST \"https://api.artsy.net/api/tokens/xapp_token?client_id=84c63abb2e4dcf9a92dc&client_secret=0c9b4371e63769b57b47b89065d7cd02\"\n",
    "#   X-Xapp-Token:JvTPWe4WsQO-xqX6Bts49l15KAJDex08cmwhWIVuKKgXCnf654RUmvmCBtJJxlcNBok25limaM0n1YoLJ1Fl0m5_zrKeofGoLNd7wfOCLR-vNoqzQVFB55jiw0kvAGRJqvAsJuz4kSvwlLdQKY4cQ4ocHo0DGlPP47MZWLASGIwC0lGusTlu7enrf6-l9e53loV3mwLswtCr7M3GlUXJOLBI9tsw4hj6wFefsez29MA=')"
   ]
  },
  {
   "cell_type": "code",
   "execution_count": 6,
   "metadata": {
    "collapsed": true
   },
   "outputs": [],
   "source": [
    "res = requests.get('https://api.artsy.net/api/artists/andy-warhol')"
   ]
  },
  {
   "cell_type": "code",
   "execution_count": 8,
   "metadata": {
    "collapsed": false
   },
   "outputs": [
    {
     "data": {
      "text/plain": [
       "'{\"type\":\"auth_error\",\"message\":\"An application token or a user is required.\"}'"
      ]
     },
     "execution_count": 8,
     "metadata": {},
     "output_type": "execute_result"
    }
   ],
   "source": [
    "res.content"
   ]
  },
  {
   "cell_type": "code",
   "execution_count": null,
   "metadata": {
    "collapsed": true
   },
   "outputs": [],
   "source": []
  }
 ],
 "metadata": {
  "kernelspec": {
   "display_name": "Python 2",
   "language": "python",
   "name": "python2"
  },
  "language_info": {
   "codemirror_mode": {
    "name": "ipython",
    "version": 2
   },
   "file_extension": ".py",
   "mimetype": "text/x-python",
   "name": "python",
   "nbconvert_exporter": "python",
   "pygments_lexer": "ipython2",
   "version": "2.7.11"
  }
 },
 "nbformat": 4,
 "nbformat_minor": 0
}
